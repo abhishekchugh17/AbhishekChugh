{
 "cells": [
  {
   "cell_type": "code",
   "execution_count": 39,
   "metadata": {},
   "outputs": [],
   "source": [
    "import pandas as pd\n",
    "df=pd.read_csv(\"matches.csv\")"
   ]
  },
  {
   "cell_type": "markdown",
   "metadata": {},
   "source": [
    "# 1.Which team has won/lost maximum number of matches while chasing?\n"
   ]
  },
  {
   "cell_type": "code",
   "execution_count": 40,
   "metadata": {},
   "outputs": [
    {
     "data": {
      "text/html": [
       "<div>\n",
       "<style scoped>\n",
       "    .dataframe tbody tr th:only-of-type {\n",
       "        vertical-align: middle;\n",
       "    }\n",
       "\n",
       "    .dataframe tbody tr th {\n",
       "        vertical-align: top;\n",
       "    }\n",
       "\n",
       "    .dataframe thead th {\n",
       "        text-align: right;\n",
       "    }\n",
       "</style>\n",
       "<table border=\"1\" class=\"dataframe\">\n",
       "  <thead>\n",
       "    <tr style=\"text-align: right;\">\n",
       "      <th></th>\n",
       "      <th>id</th>\n",
       "      <th>season</th>\n",
       "      <th>city</th>\n",
       "      <th>date</th>\n",
       "      <th>team1</th>\n",
       "      <th>team2</th>\n",
       "      <th>toss_winner</th>\n",
       "      <th>toss_decision</th>\n",
       "      <th>result</th>\n",
       "      <th>dl_applied</th>\n",
       "      <th>winner</th>\n",
       "      <th>win_by_runs</th>\n",
       "      <th>win_by_wickets</th>\n",
       "      <th>player_of_match</th>\n",
       "      <th>venue</th>\n",
       "      <th>umpire1</th>\n",
       "      <th>umpire2</th>\n",
       "      <th>umpire3</th>\n",
       "    </tr>\n",
       "  </thead>\n",
       "  <tbody>\n",
       "    <tr>\n",
       "      <th>0</th>\n",
       "      <td>1</td>\n",
       "      <td>2017</td>\n",
       "      <td>Hyderabad</td>\n",
       "      <td>2017-04-05</td>\n",
       "      <td>Sunrisers Hyderabad</td>\n",
       "      <td>Royal Challengers Bangalore</td>\n",
       "      <td>Royal Challengers Bangalore</td>\n",
       "      <td>field</td>\n",
       "      <td>normal</td>\n",
       "      <td>0</td>\n",
       "      <td>Sunrisers Hyderabad</td>\n",
       "      <td>35</td>\n",
       "      <td>0</td>\n",
       "      <td>Yuvraj Singh</td>\n",
       "      <td>Rajiv Gandhi International Stadium, Uppal</td>\n",
       "      <td>AY Dandekar</td>\n",
       "      <td>NJ Llong</td>\n",
       "      <td>NaN</td>\n",
       "    </tr>\n",
       "    <tr>\n",
       "      <th>1</th>\n",
       "      <td>2</td>\n",
       "      <td>2017</td>\n",
       "      <td>Pune</td>\n",
       "      <td>2017-04-06</td>\n",
       "      <td>Mumbai Indians</td>\n",
       "      <td>Rising Pune Supergiant</td>\n",
       "      <td>Rising Pune Supergiant</td>\n",
       "      <td>field</td>\n",
       "      <td>normal</td>\n",
       "      <td>0</td>\n",
       "      <td>Rising Pune Supergiant</td>\n",
       "      <td>0</td>\n",
       "      <td>7</td>\n",
       "      <td>SPD Smith</td>\n",
       "      <td>Maharashtra Cricket Association Stadium</td>\n",
       "      <td>A Nand Kishore</td>\n",
       "      <td>S Ravi</td>\n",
       "      <td>NaN</td>\n",
       "    </tr>\n",
       "    <tr>\n",
       "      <th>2</th>\n",
       "      <td>3</td>\n",
       "      <td>2017</td>\n",
       "      <td>Rajkot</td>\n",
       "      <td>2017-04-07</td>\n",
       "      <td>Gujarat Lions</td>\n",
       "      <td>Kolkata Knight Riders</td>\n",
       "      <td>Kolkata Knight Riders</td>\n",
       "      <td>field</td>\n",
       "      <td>normal</td>\n",
       "      <td>0</td>\n",
       "      <td>Kolkata Knight Riders</td>\n",
       "      <td>0</td>\n",
       "      <td>10</td>\n",
       "      <td>CA Lynn</td>\n",
       "      <td>Saurashtra Cricket Association Stadium</td>\n",
       "      <td>Nitin Menon</td>\n",
       "      <td>CK Nandan</td>\n",
       "      <td>NaN</td>\n",
       "    </tr>\n",
       "    <tr>\n",
       "      <th>3</th>\n",
       "      <td>4</td>\n",
       "      <td>2017</td>\n",
       "      <td>Indore</td>\n",
       "      <td>2017-04-08</td>\n",
       "      <td>Rising Pune Supergiant</td>\n",
       "      <td>Kings XI Punjab</td>\n",
       "      <td>Kings XI Punjab</td>\n",
       "      <td>field</td>\n",
       "      <td>normal</td>\n",
       "      <td>0</td>\n",
       "      <td>Kings XI Punjab</td>\n",
       "      <td>0</td>\n",
       "      <td>6</td>\n",
       "      <td>GJ Maxwell</td>\n",
       "      <td>Holkar Cricket Stadium</td>\n",
       "      <td>AK Chaudhary</td>\n",
       "      <td>C Shamshuddin</td>\n",
       "      <td>NaN</td>\n",
       "    </tr>\n",
       "    <tr>\n",
       "      <th>4</th>\n",
       "      <td>5</td>\n",
       "      <td>2017</td>\n",
       "      <td>Bangalore</td>\n",
       "      <td>2017-04-08</td>\n",
       "      <td>Royal Challengers Bangalore</td>\n",
       "      <td>Delhi Daredevils</td>\n",
       "      <td>Royal Challengers Bangalore</td>\n",
       "      <td>bat</td>\n",
       "      <td>normal</td>\n",
       "      <td>0</td>\n",
       "      <td>Royal Challengers Bangalore</td>\n",
       "      <td>15</td>\n",
       "      <td>0</td>\n",
       "      <td>KM Jadhav</td>\n",
       "      <td>M Chinnaswamy Stadium</td>\n",
       "      <td>NaN</td>\n",
       "      <td>NaN</td>\n",
       "      <td>NaN</td>\n",
       "    </tr>\n",
       "  </tbody>\n",
       "</table>\n",
       "</div>"
      ],
      "text/plain": [
       "   id  season       city        date                        team1  \\\n",
       "0   1    2017  Hyderabad  2017-04-05          Sunrisers Hyderabad   \n",
       "1   2    2017       Pune  2017-04-06               Mumbai Indians   \n",
       "2   3    2017     Rajkot  2017-04-07                Gujarat Lions   \n",
       "3   4    2017     Indore  2017-04-08       Rising Pune Supergiant   \n",
       "4   5    2017  Bangalore  2017-04-08  Royal Challengers Bangalore   \n",
       "\n",
       "                         team2                  toss_winner toss_decision  \\\n",
       "0  Royal Challengers Bangalore  Royal Challengers Bangalore         field   \n",
       "1       Rising Pune Supergiant       Rising Pune Supergiant         field   \n",
       "2        Kolkata Knight Riders        Kolkata Knight Riders         field   \n",
       "3              Kings XI Punjab              Kings XI Punjab         field   \n",
       "4             Delhi Daredevils  Royal Challengers Bangalore           bat   \n",
       "\n",
       "   result  dl_applied                       winner  win_by_runs  \\\n",
       "0  normal           0          Sunrisers Hyderabad           35   \n",
       "1  normal           0       Rising Pune Supergiant            0   \n",
       "2  normal           0        Kolkata Knight Riders            0   \n",
       "3  normal           0              Kings XI Punjab            0   \n",
       "4  normal           0  Royal Challengers Bangalore           15   \n",
       "\n",
       "   win_by_wickets player_of_match                                      venue  \\\n",
       "0               0    Yuvraj Singh  Rajiv Gandhi International Stadium, Uppal   \n",
       "1               7       SPD Smith    Maharashtra Cricket Association Stadium   \n",
       "2              10         CA Lynn     Saurashtra Cricket Association Stadium   \n",
       "3               6      GJ Maxwell                     Holkar Cricket Stadium   \n",
       "4               0       KM Jadhav                      M Chinnaswamy Stadium   \n",
       "\n",
       "          umpire1        umpire2 umpire3  \n",
       "0     AY Dandekar       NJ Llong     NaN  \n",
       "1  A Nand Kishore         S Ravi     NaN  \n",
       "2     Nitin Menon      CK Nandan     NaN  \n",
       "3    AK Chaudhary  C Shamshuddin     NaN  \n",
       "4             NaN            NaN     NaN  "
      ]
     },
     "execution_count": 40,
     "metadata": {},
     "output_type": "execute_result"
    }
   ],
   "source": [
    "df.head()"
   ]
  },
  {
   "cell_type": "code",
   "execution_count": 63,
   "metadata": {},
   "outputs": [
    {
     "name": "stdout",
     "output_type": "stream",
     "text": [
      "Team with Maximum Wins while Chasing: Kolkata Knight Riders    58\n",
      "Mumbai Indians           51\n",
      "Name: winner, dtype: int64\n",
      "Team with most loses while chasing: Mumbai Indians         58\n",
      "Chennai Super Kings    51\n",
      "Name: winner, dtype: int64\n"
     ]
    }
   ],
   "source": [
    "chasers = df.loc[df['team2'] == df['winner']]\n",
    "chaselost = df.loc[df['team2'] != df['winner']]\n",
    "print(\"Team with Maximum Wins while Chasing:\",chasers['winner'].value_counts()[:2])\n",
    "print(\"Team with most loses while chasing:\",chaselost['winner'].value_counts()[:2])"
   ]
  },
  {
   "cell_type": "markdown",
   "metadata": {},
   "source": [
    "# 3. Which toss decision is best for each ground?"
   ]
  },
  {
   "cell_type": "code",
   "execution_count": 42,
   "metadata": {},
   "outputs": [
    {
     "data": {
      "text/plain": [
       "venue\n",
       "ACA-VDCA Stadium                                        Chase First\n",
       "Barabati Stadium                                          Bat First\n",
       "Brabourne Stadium                                         Bat First\n",
       "Buffalo Park                                              Bat First\n",
       "De Beers Diamond Oval                                   Chase First\n",
       "Dr DY Patil Sports Academy                              Chase First\n",
       "Dr. Y.S. Rajasekhara Reddy ACA-VDCA Cricket Stadium       Bat First\n",
       "Dubai International Cricket Stadium                     Chase First\n",
       "Eden Gardens                                            Chase First\n",
       "Feroz Shah Kotla                                        Chase First\n",
       "Feroz Shah Kotla Ground                                 Chase First\n",
       "Green Park                                              Chase First\n",
       "Himachal Pradesh Cricket Association Stadium              Bat First\n",
       "Holkar Cricket Stadium                                  Chase First\n",
       "IS Bindra Stadium                                       Chase First\n",
       "JSCA International Stadium Complex                      Chase First\n",
       "Kingsmead                                                 Bat First\n",
       "M Chinnaswamy Stadium                                   Chase First\n",
       "M. A. Chidambaram Stadium                               Chase First\n",
       "M. Chinnaswamy Stadium                                  Chase First\n",
       "MA Chidambaram Stadium, Chepauk                           Bat First\n",
       "Maharashtra Cricket Association Stadium                 Chase First\n",
       "Nehru Stadium                                             Bat First\n",
       "New Wanderers Stadium                                   Chase First\n",
       "Newlands                                                  Bat First\n",
       "OUTsurance Oval                                         Chase First\n",
       "Punjab Cricket Association IS Bindra Stadium, Mohali    Chase First\n",
       "Punjab Cricket Association Stadium, Mohali              Chase First\n",
       "Rajiv Gandhi International Stadium, Uppal               Chase First\n",
       "Rajiv Gandhi Intl. Cricket Stadium                        Bat First\n",
       "Sardar Patel Stadium, Motera                            Chase First\n",
       "Saurashtra Cricket Association Stadium                  Chase First\n",
       "Sawai Mansingh Stadium                                  Chase First\n",
       "Shaheed Veer Narayan Singh International Stadium        Chase First\n",
       "Sharjah Cricket Stadium                                 Chase First\n",
       "Sheikh Zayed Stadium                                      Bat First\n",
       "St George's Park                                        Chase First\n",
       "Subrata Roy Sahara Stadium                                Bat First\n",
       "SuperSport Park                                         Chase First\n",
       "Vidarbha Cricket Association Stadium, Jamtha              Bat First\n",
       "Wankhede Stadium                                        Chase First\n",
       "Name: winner, dtype: object"
      ]
     },
     "execution_count": 42,
     "metadata": {},
     "output_type": "execute_result"
    }
   ],
   "source": [
    "team2wins = chasers.groupby(\"venue\")[\"winner\"].count().to_frame()\n",
    "battingfirst = df.loc[df['team1'] == df['winner']]\n",
    "team1wins = battingfirst.groupby(\"venue\")['winner'].count().to_frame()\n",
    "#print(team1wins,team2wins)\n",
    "ans = team1wins['winner'] - team2wins['winner']\n",
    "ans.fillna(\"Chase First\")\n",
    "ddf2 = ans.apply(lambda row:('Bat First' if row > 0.0 else 'Chase First'))\n",
    "ddf2"
   ]
  },
  {
   "cell_type": "markdown",
   "metadata": {},
   "source": [
    "# 4.Which player has won maximum number of MoM awards while chasing?"
   ]
  },
  {
   "cell_type": "code",
   "execution_count": 43,
   "metadata": {},
   "outputs": [],
   "source": [
    "mom = df.loc[df['team2'] == df['winner']]"
   ]
  },
  {
   "cell_type": "code",
   "execution_count": 44,
   "metadata": {},
   "outputs": [
    {
     "data": {
      "text/plain": [
       "player_of_match\n",
       "YK Pathan    11\n",
       "CH Gayle     10\n",
       "G Gambhir    10\n",
       "Name: player_of_match, dtype: int64"
      ]
     },
     "execution_count": 44,
     "metadata": {},
     "output_type": "execute_result"
    }
   ],
   "source": [
    "f = mom.groupby('player_of_match')['player_of_match'].count()\n",
    "f.sort_values(ascending = False)[:3]"
   ]
  },
  {
   "cell_type": "markdown",
   "metadata": {},
   "source": [
    "# 5.Which batsman has played maximum number of dot balls?"
   ]
  },
  {
   "cell_type": "code",
   "execution_count": 45,
   "metadata": {},
   "outputs": [],
   "source": [
    "cf =pd.read_csv(\"deliveries.csv\")"
   ]
  },
  {
   "cell_type": "code",
   "execution_count": 46,
   "metadata": {},
   "outputs": [
    {
     "data": {
      "text/plain": [
       "array([nan, 'caught', 'bowled', 'run out', 'lbw', 'caught and bowled',\n",
       "       'stumped', 'retired hurt', 'hit wicket', 'obstructing the field'],\n",
       "      dtype=object)"
      ]
     },
     "execution_count": 46,
     "metadata": {},
     "output_type": "execute_result"
    }
   ],
   "source": [
    "cf.head()\n",
    "cf['dismissal_kind'].unique()"
   ]
  },
  {
   "cell_type": "code",
   "execution_count": 47,
   "metadata": {},
   "outputs": [],
   "source": [
    "ans = cf.query('batsman_runs == 0')"
   ]
  },
  {
   "cell_type": "code",
   "execution_count": 48,
   "metadata": {},
   "outputs": [
    {
     "data": {
      "text/plain": [
       "batsman\n",
       "V Kohli    1493\n",
       "Name: batsman_runs, dtype: int64"
      ]
     },
     "execution_count": 48,
     "metadata": {},
     "output_type": "execute_result"
    }
   ],
   "source": [
    "ans.groupby('batsman')['batsman_runs'].count().sort_values(ascending = False)[:1]"
   ]
  },
  {
   "cell_type": "markdown",
   "metadata": {},
   "source": [
    "# 6. Which batsmen came to crease but never got a chance to face a ball?"
   ]
  },
  {
   "cell_type": "code",
   "execution_count": 49,
   "metadata": {},
   "outputs": [
    {
     "data": {
      "text/plain": [
       "['MJ McClenaghan',\n",
       " 'DR Smith',\n",
       " 'R Bhatia',\n",
       " 'A Nehra',\n",
       " 'Sandeep Sharma',\n",
       " 'CH Morris',\n",
       " 'MG Johnson',\n",
       " 'MJ McClenaghan',\n",
       " 'MK Pandey',\n",
       " 'PJ Cummins',\n",
       " 'S Aravind',\n",
       " 'JD Unadkat',\n",
       " 'A Nehra',\n",
       " 'S Aravind',\n",
       " 'S Nadeem',\n",
       " 'Sandeep Sharma',\n",
       " 'PP Ojha',\n",
       " 'AB Dinda',\n",
       " 'JDP Oram',\n",
       " 'I Sharma',\n",
       " 'Joginder Sharma',\n",
       " 'DP Vijaykumar',\n",
       " 'SB Bangar',\n",
       " 'A Nehra',\n",
       " 'A Kumble',\n",
       " 'S Sreesanth',\n",
       " 'GD McGrath',\n",
       " 'A Nel',\n",
       " 'Z Khan',\n",
       " 'MM Patel',\n",
       " 'PR Shah',\n",
       " 'DW Steyn',\n",
       " 'T Kohli',\n",
       " 'PP Chawla',\n",
       " 'L Balaji',\n",
       " 'DL Vettori',\n",
       " 'R Vinay Kumar',\n",
       " 'K Goel',\n",
       " 'MS Gony',\n",
       " 'Z Khan',\n",
       " 'AB Agarkar',\n",
       " 'RR Powar',\n",
       " 'Y Venugopal Rao',\n",
       " 'S Tyagi',\n",
       " 'A Nehra',\n",
       " 'A Kumble',\n",
       " 'SL Malinga',\n",
       " 'RP Singh',\n",
       " 'PP Chawla',\n",
       " 'PJ Sangwan',\n",
       " 'S Tyagi',\n",
       " 'SK Warne',\n",
       " 'AB Agarkar',\n",
       " 'Jaskaran Singh',\n",
       " 'DS Kulkarni',\n",
       " 'SL Malinga',\n",
       " 'SA Asnodkar',\n",
       " 'Z Khan',\n",
       " 'R Sathish',\n",
       " 'AD Mathews',\n",
       " 'SL Malinga',\n",
       " 'AA Jhunjhunwala',\n",
       " 'PP Ojha',\n",
       " 'WP Saha',\n",
       " 'SK Warne',\n",
       " 'PP Ojha',\n",
       " 'C Ganapathy',\n",
       " 'Y Venugopal Rao',\n",
       " 'S Anirudha',\n",
       " 'PP Ojha',\n",
       " 'Harmeet Singh',\n",
       " 'P Kumar',\n",
       " 'SB Jakati',\n",
       " 'Kamran Khan',\n",
       " 'SB Jakati',\n",
       " 'Harmeet Singh',\n",
       " 'KA Pollard',\n",
       " 'S Nadeem',\n",
       " 'MK Tiwary',\n",
       " 'AB Agarkar',\n",
       " 'A Mithun',\n",
       " 'M Kartik',\n",
       " 'TL Suman',\n",
       " 'MV Boucher',\n",
       " 'JA Morkel',\n",
       " 'RP Singh',\n",
       " 'SK Trivedi',\n",
       " 'I Sharma',\n",
       " 'SL Malinga',\n",
       " 'WP Saha',\n",
       " 'A Mithun',\n",
       " 'DS Kulkarni',\n",
       " 'SL Malinga',\n",
       " 'SB Jakati',\n",
       " 'RG Sharma',\n",
       " 'S Badrinath',\n",
       " 'R Sharma',\n",
       " 'TP Sudhindra',\n",
       " 'M Vijay',\n",
       " 'Z Khan',\n",
       " 'B Kumar',\n",
       " 'PA Patel',\n",
       " 'P Awana',\n",
       " 'AB Agarkar',\n",
       " 'LR Shukla',\n",
       " 'M Kartik',\n",
       " 'M Morkel',\n",
       " 'PA Reddy',\n",
       " 'MM Patel',\n",
       " 'DW Steyn',\n",
       " 'GB Hogg',\n",
       " 'UT Yadav',\n",
       " 'S Sreesanth',\n",
       " 'DP Nannes',\n",
       " 'A Mishra',\n",
       " 'P Awana',\n",
       " 'L Balaji',\n",
       " 'MS Gony',\n",
       " 'JH Kallis',\n",
       " 'PP Chawla',\n",
       " 'I Sharma',\n",
       " 'AT Rayudu',\n",
       " 'G Gambhir',\n",
       " 'M Rawat',\n",
       " 'Harbhajan Singh',\n",
       " 'AT Rayudu',\n",
       " 'I Sharma',\n",
       " 'LJ Wright',\n",
       " 'A Mishra',\n",
       " 'S Kaul',\n",
       " 'S Badrinath',\n",
       " 'MM Patel',\n",
       " 'DW Steyn',\n",
       " 'NM Coulter-Nile',\n",
       " 'BW Hilfenhaus',\n",
       " 'AR Patel',\n",
       " 'MA Starc',\n",
       " 'YS Chahal',\n",
       " 'STR Binny',\n",
       " 'Z Khan',\n",
       " 'R Vinay Kumar',\n",
       " 'WD Parnell',\n",
       " 'AP Tare',\n",
       " 'R Ashwin',\n",
       " 'KK Cooper',\n",
       " 'RN ten Doeschate',\n",
       " 'Parvez Rasool',\n",
       " 'R Vinay Kumar',\n",
       " 'KK Cooper',\n",
       " 'M Morkel',\n",
       " 'SP Narine',\n",
       " 'DJ Muthuswami',\n",
       " 'TG Southee',\n",
       " 'DJ Bravo',\n",
       " 'PP Chawla',\n",
       " 'R Vinay Kumar',\n",
       " 'R Dhawan',\n",
       " 'MK Tiwary',\n",
       " 'J Suchith',\n",
       " 'JJ Bumrah',\n",
       " 'Harbhajan Singh',\n",
       " 'Mandeep Singh',\n",
       " 'YS Chahal',\n",
       " 'MM Sharma',\n",
       " 'UT Yadav',\n",
       " 'GJ Bailey',\n",
       " 'BE Hendricks',\n",
       " 'HV Patel',\n",
       " 'SN Khan',\n",
       " 'RA Jadeja',\n",
       " 'MG Johnson',\n",
       " 'MJ McClenaghan',\n",
       " 'HV Patel',\n",
       " 'I Sharma',\n",
       " 'SP Narine',\n",
       " 'KH Pandya',\n",
       " 'MM Sharma',\n",
       " 'A Nehra',\n",
       " 'P Kumar',\n",
       " 'GB Hogg',\n",
       " 'S Kaushik',\n",
       " 'VR Aaron',\n",
       " 'DJ Bravo',\n",
       " 'STR Binny',\n",
       " 'R Bhatia',\n",
       " 'GJ Maxwell',\n",
       " 'M Morkel',\n",
       " 'BB Sran',\n",
       " 'Washington Sundar',\n",
       " 'SS Iyer',\n",
       " 'C Munro',\n",
       " 'BB Sran',\n",
       " 'S Mavi',\n",
       " 'JD Unadkat',\n",
       " 'CH Morris',\n",
       " 'JD Unadkat',\n",
       " 'Mohammed Siraj',\n",
       " 'V Shankar',\n",
       " 'RA Jadeja',\n",
       " 'Basil Thampi',\n",
       " 'RA Jadeja',\n",
       " 'MJ McClenaghan',\n",
       " 'J Archer',\n",
       " 'KV Sharma',\n",
       " 'R Ashwin',\n",
       " 'PP Chawla',\n",
       " 'JP Duminy',\n",
       " 'V Shankar',\n",
       " 'J Archer',\n",
       " 'JP Duminy',\n",
       " 'BA Stokes',\n",
       " 'S Kaul',\n",
       " 'S Gill',\n",
       " 'Mustafizur Rahman',\n",
       " 'PP Chawla',\n",
       " 'P Krishna',\n",
       " 'JJ Bumrah',\n",
       " 'M Markande',\n",
       " 'HV Patel',\n",
       " 'JD Unadkat',\n",
       " 'M Ur Rahman',\n",
       " 'I Sharma',\n",
       " 'A Joseph',\n",
       " 'KH Pandya',\n",
       " 'Kuldeep Yadav',\n",
       " 'Mohammed Siraj',\n",
       " 'KA Pollard',\n",
       " 'JD Unadkat',\n",
       " 'YK Pathan',\n",
       " 'I Sharma',\n",
       " 'KA Pollard',\n",
       " 'K Paul',\n",
       " 'KD Karthik',\n",
       " 'SN Thakur',\n",
       " 'DW Steyn',\n",
       " 'SV Samson',\n",
       " 'DJ Bravo',\n",
       " 'Imran Tahir',\n",
       " 'S Kaul',\n",
       " 'UT Yadav',\n",
       " 'UT Yadav',\n",
       " 'Rashid Khan',\n",
       " 'SP Narine',\n",
       " 'TA Boult',\n",
       " 'B Kumar',\n",
       " 'JJ Bumrah']"
      ]
     },
     "execution_count": 49,
     "metadata": {},
     "output_type": "execute_result"
    }
   ],
   "source": [
    "ans = []\n",
    "ws = cf.groupby('match_id')\n",
    "for match,data in ws:\n",
    "    ns = set(data['non_striker'])\n",
    "    batter = set(data['batsman'])\n",
    "    ans += (ns-batter)\n",
    "ans"
   ]
  },
  {
   "cell_type": "code",
   "execution_count": null,
   "metadata": {},
   "outputs": [],
   "source": []
  },
  {
   "cell_type": "markdown",
   "metadata": {},
   "source": [
    "# 7.Which batsman has played maximum number of dot balls?"
   ]
  },
  {
   "cell_type": "code",
   "execution_count": 50,
   "metadata": {},
   "outputs": [
    {
     "data": {
      "text/plain": [
       "bowler\n",
       "PP Chawla    171\n",
       "A Mishra     170\n",
       "Name: bowler, dtype: int64"
      ]
     },
     "execution_count": 50,
     "metadata": {},
     "output_type": "execute_result"
    }
   ],
   "source": [
    "ts = cf.query('total_runs == 6 | total_runs == 7')\n",
    "ts.groupby('bowler')['bowler'].count().sort_values(ascending = False)[:2]"
   ]
  },
  {
   "cell_type": "code",
   "execution_count": 51,
   "metadata": {},
   "outputs": [
    {
     "data": {
      "text/plain": [
       "bowler\n",
       "UT Yadav    389\n",
       "Name: bowler, dtype: int64"
      ]
     },
     "execution_count": 51,
     "metadata": {},
     "output_type": "execute_result"
    }
   ],
   "source": [
    "ts = cf.query('total_runs == 4')\n",
    "ts.groupby('bowler')['bowler'].count().sort_values(ascending = False)[:1]"
   ]
  },
  {
   "cell_type": "code",
   "execution_count": 52,
   "metadata": {},
   "outputs": [
    {
     "data": {
      "text/plain": [
       "bowler\n",
       "DJ Bravo    258\n",
       "Name: bowler, dtype: int64"
      ]
     },
     "execution_count": 52,
     "metadata": {},
     "output_type": "execute_result"
    }
   ],
   "source": [
    "ts = cf.query('total_runs == 2')\n",
    "ts.groupby('bowler')['bowler'].count().sort_values(ascending = False)[:1]"
   ]
  },
  {
   "cell_type": "code",
   "execution_count": 53,
   "metadata": {},
   "outputs": [
    {
     "data": {
      "text/plain": [
       "bowler\n",
       "Harbhajan Singh    1549\n",
       "Name: bowler, dtype: int64"
      ]
     },
     "execution_count": 53,
     "metadata": {},
     "output_type": "execute_result"
    }
   ],
   "source": [
    "ts = cf.query('total_runs == 1')\n",
    "ts.groupby('bowler')['bowler'].count().sort_values(ascending = False)[:1]"
   ]
  },
  {
   "cell_type": "markdown",
   "metadata": {},
   "source": [
    "# 8.Which batsman got stumped out maximum number of times?"
   ]
  },
  {
   "cell_type": "code",
   "execution_count": 54,
   "metadata": {},
   "outputs": [],
   "source": [
    "stumpout = cf.query('dismissal_kind == \"stumped\"')"
   ]
  },
  {
   "cell_type": "code",
   "execution_count": 55,
   "metadata": {},
   "outputs": [
    {
     "data": {
      "text/plain": [
       "batsman\n",
       "SK Raina    8\n",
       "Name: dismissal_kind, dtype: int64"
      ]
     },
     "execution_count": 55,
     "metadata": {},
     "output_type": "execute_result"
    }
   ],
   "source": [
    "stumpout.groupby('batsman')['dismissal_kind'].count().sort_values(ascending = False)[:1]"
   ]
  },
  {
   "cell_type": "markdown",
   "metadata": {},
   "source": [
    "#  9. Which non-striker has been part of maximum number of runouts?"
   ]
  },
  {
   "cell_type": "code",
   "execution_count": 56,
   "metadata": {},
   "outputs": [],
   "source": [
    "runout = cf.query('dismissal_kind == \"run out\"')"
   ]
  },
  {
   "cell_type": "code",
   "execution_count": 57,
   "metadata": {},
   "outputs": [
    {
     "data": {
      "text/plain": [
       "non_striker\n",
       "SK Raina      16\n",
       "KD Karthik    16\n",
       "Name: dismissal_kind, dtype: int64"
      ]
     },
     "execution_count": 57,
     "metadata": {},
     "output_type": "execute_result"
    }
   ],
   "source": [
    "runout.groupby('non_striker')['dismissal_kind'].count().sort_values(ascending = False)[:2]"
   ]
  },
  {
   "cell_type": "markdown",
   "metadata": {},
   "source": [
    "# 10. How many matches won by each team ? "
   ]
  },
  {
   "cell_type": "code",
   "execution_count": 58,
   "metadata": {},
   "outputs": [
    {
     "data": {
      "text/plain": [
       "winner\n",
       "Chennai Super Kings            100\n",
       "Deccan Chargers                 29\n",
       "Delhi Capitals                  10\n",
       "Delhi Daredevils                67\n",
       "Gujarat Lions                   13\n",
       "Kings XI Punjab                 82\n",
       "Kochi Tuskers Kerala             6\n",
       "Kolkata Knight Riders           92\n",
       "Mumbai Indians                 109\n",
       "Pune Warriors                   12\n",
       "Rajasthan Royals                75\n",
       "Rising Pune Supergiant          10\n",
       "Rising Pune Supergiants          5\n",
       "Royal Challengers Bangalore     84\n",
       "Sunrisers Hyderabad             58\n",
       "Name: id, dtype: int64"
      ]
     },
     "execution_count": 58,
     "metadata": {},
     "output_type": "execute_result"
    }
   ],
   "source": [
    "matches_won = df.groupby('winner').count()\n",
    "matches_won['id']"
   ]
  },
  {
   "cell_type": "markdown",
   "metadata": {},
   "source": [
    "# 11.Total matches played by each team "
   ]
  },
  {
   "cell_type": "code",
   "execution_count": 59,
   "metadata": {},
   "outputs": [
    {
     "data": {
      "text/plain": [
       "Chennai Super Kings            164\n",
       "Deccan Chargers                 75\n",
       "Delhi Capitals                  16\n",
       "Delhi Daredevils               161\n",
       "Gujarat Lions                   30\n",
       "Kings XI Punjab                176\n",
       "Kochi Tuskers Kerala            14\n",
       "Kolkata Knight Riders          178\n",
       "Mumbai Indians                 187\n",
       "Pune Warriors                   46\n",
       "Rajasthan Royals               147\n",
       "Rising Pune Supergiant          16\n",
       "Rising Pune Supergiants         14\n",
       "Royal Challengers Bangalore    180\n",
       "Sunrisers Hyderabad            108\n",
       "dtype: int64"
      ]
     },
     "execution_count": 59,
     "metadata": {},
     "output_type": "execute_result"
    }
   ],
   "source": [
    "matches_played = df['team1'].value_counts()+ df['team2'].value_counts()\n",
    "matches_played"
   ]
  },
  {
   "cell_type": "markdown",
   "metadata": {},
   "source": [
    "# 12.Each Season Winner "
   ]
  },
  {
   "cell_type": "code",
   "execution_count": 60,
   "metadata": {},
   "outputs": [
    {
     "data": {
      "text/html": [
       "<div>\n",
       "<style scoped>\n",
       "    .dataframe tbody tr th:only-of-type {\n",
       "        vertical-align: middle;\n",
       "    }\n",
       "\n",
       "    .dataframe tbody tr th {\n",
       "        vertical-align: top;\n",
       "    }\n",
       "\n",
       "    .dataframe thead th {\n",
       "        text-align: right;\n",
       "    }\n",
       "</style>\n",
       "<table border=\"1\" class=\"dataframe\">\n",
       "  <thead>\n",
       "    <tr style=\"text-align: right;\">\n",
       "      <th></th>\n",
       "      <th>season</th>\n",
       "      <th>winner</th>\n",
       "    </tr>\n",
       "  </thead>\n",
       "  <tbody>\n",
       "    <tr>\n",
       "      <th>116</th>\n",
       "      <td>2008</td>\n",
       "      <td>Rajasthan Royals</td>\n",
       "    </tr>\n",
       "    <tr>\n",
       "      <th>173</th>\n",
       "      <td>2009</td>\n",
       "      <td>Deccan Chargers</td>\n",
       "    </tr>\n",
       "    <tr>\n",
       "      <th>233</th>\n",
       "      <td>2010</td>\n",
       "      <td>Chennai Super Kings</td>\n",
       "    </tr>\n",
       "    <tr>\n",
       "      <th>306</th>\n",
       "      <td>2011</td>\n",
       "      <td>Chennai Super Kings</td>\n",
       "    </tr>\n",
       "    <tr>\n",
       "      <th>380</th>\n",
       "      <td>2012</td>\n",
       "      <td>Kolkata Knight Riders</td>\n",
       "    </tr>\n",
       "    <tr>\n",
       "      <th>456</th>\n",
       "      <td>2013</td>\n",
       "      <td>Mumbai Indians</td>\n",
       "    </tr>\n",
       "    <tr>\n",
       "      <th>516</th>\n",
       "      <td>2014</td>\n",
       "      <td>Kolkata Knight Riders</td>\n",
       "    </tr>\n",
       "    <tr>\n",
       "      <th>575</th>\n",
       "      <td>2015</td>\n",
       "      <td>Mumbai Indians</td>\n",
       "    </tr>\n",
       "    <tr>\n",
       "      <th>635</th>\n",
       "      <td>2016</td>\n",
       "      <td>Sunrisers Hyderabad</td>\n",
       "    </tr>\n",
       "    <tr>\n",
       "      <th>58</th>\n",
       "      <td>2017</td>\n",
       "      <td>Mumbai Indians</td>\n",
       "    </tr>\n",
       "    <tr>\n",
       "      <th>695</th>\n",
       "      <td>2018</td>\n",
       "      <td>Chennai Super Kings</td>\n",
       "    </tr>\n",
       "    <tr>\n",
       "      <th>755</th>\n",
       "      <td>2019</td>\n",
       "      <td>Mumbai Indians</td>\n",
       "    </tr>\n",
       "  </tbody>\n",
       "</table>\n",
       "</div>"
      ],
      "text/plain": [
       "     season                 winner\n",
       "116    2008       Rajasthan Royals\n",
       "173    2009        Deccan Chargers\n",
       "233    2010    Chennai Super Kings\n",
       "306    2011    Chennai Super Kings\n",
       "380    2012  Kolkata Knight Riders\n",
       "456    2013         Mumbai Indians\n",
       "516    2014  Kolkata Knight Riders\n",
       "575    2015         Mumbai Indians\n",
       "635    2016    Sunrisers Hyderabad\n",
       "58     2017         Mumbai Indians\n",
       "695    2018    Chennai Super Kings\n",
       "755    2019         Mumbai Indians"
      ]
     },
     "execution_count": 60,
     "metadata": {},
     "output_type": "execute_result"
    }
   ],
   "source": [
    "season_winner = df.groupby('season')['season','winner'].tail(1)\n",
    "season_winner.sort_values(by=\"season\",ascending=True)"
   ]
  },
  {
   "cell_type": "markdown",
   "metadata": {},
   "source": [
    "# 13.Teams won by maximum runs "
   ]
  },
  {
   "cell_type": "code",
   "execution_count": 61,
   "metadata": {},
   "outputs": [
    {
     "data": {
      "text/html": [
       "<div>\n",
       "<style scoped>\n",
       "    .dataframe tbody tr th:only-of-type {\n",
       "        vertical-align: middle;\n",
       "    }\n",
       "\n",
       "    .dataframe tbody tr th {\n",
       "        vertical-align: top;\n",
       "    }\n",
       "\n",
       "    .dataframe thead th {\n",
       "        text-align: right;\n",
       "    }\n",
       "</style>\n",
       "<table border=\"1\" class=\"dataframe\">\n",
       "  <thead>\n",
       "    <tr style=\"text-align: right;\">\n",
       "      <th></th>\n",
       "      <th>season</th>\n",
       "      <th>winner</th>\n",
       "      <th>win_by_runs</th>\n",
       "    </tr>\n",
       "  </thead>\n",
       "  <tbody>\n",
       "    <tr>\n",
       "      <th>43</th>\n",
       "      <td>2017</td>\n",
       "      <td>Mumbai Indians</td>\n",
       "      <td>146</td>\n",
       "    </tr>\n",
       "    <tr>\n",
       "      <th>619</th>\n",
       "      <td>2016</td>\n",
       "      <td>Royal Challengers Bangalore</td>\n",
       "      <td>144</td>\n",
       "    </tr>\n",
       "    <tr>\n",
       "      <th>59</th>\n",
       "      <td>2008</td>\n",
       "      <td>Kolkata Knight Riders</td>\n",
       "      <td>140</td>\n",
       "    </tr>\n",
       "    <tr>\n",
       "      <th>556</th>\n",
       "      <td>2015</td>\n",
       "      <td>Royal Challengers Bangalore</td>\n",
       "      <td>138</td>\n",
       "    </tr>\n",
       "    <tr>\n",
       "      <th>410</th>\n",
       "      <td>2013</td>\n",
       "      <td>Royal Challengers Bangalore</td>\n",
       "      <td>130</td>\n",
       "    </tr>\n",
       "  </tbody>\n",
       "</table>\n",
       "</div>"
      ],
      "text/plain": [
       "     season                       winner  win_by_runs\n",
       "43     2017               Mumbai Indians          146\n",
       "619    2016  Royal Challengers Bangalore          144\n",
       "59     2008        Kolkata Knight Riders          140\n",
       "556    2015  Royal Challengers Bangalore          138\n",
       "410    2013  Royal Challengers Bangalore          130"
      ]
     },
     "execution_count": 61,
     "metadata": {},
     "output_type": "execute_result"
    }
   ],
   "source": [
    "maximum_runs = df.sort_values('win_by_runs', ascending = False)[:5].head(5)\n",
    "maximum_runs[['season','winner','win_by_runs']]"
   ]
  },
  {
   "cell_type": "markdown",
   "metadata": {},
   "source": [
    "# 14.Team won by maximum wickets "
   ]
  },
  {
   "cell_type": "code",
   "execution_count": 62,
   "metadata": {},
   "outputs": [
    {
     "data": {
      "text/plain": [
       "Royal Challengers Bangalore    3\n",
       "Chennai Super Kings            1\n",
       "Deccan Chargers                1\n",
       "Mumbai Indians                 1\n",
       "Kings XI Punjab                1\n",
       "Delhi Daredevils               1\n",
       "Rajasthan Royals               1\n",
       "Sunrisers Hyderabad            1\n",
       "Kolkata Knight Riders          1\n",
       "Name: winner, dtype: int64"
      ]
     },
     "execution_count": 62,
     "metadata": {},
     "output_type": "execute_result"
    }
   ],
   "source": [
    "max_wickets=df[df['win_by_wickets']==10]\n",
    "max_wickets['winner'].value_counts()"
   ]
  }
 ],
 "metadata": {
  "kernelspec": {
   "display_name": "Python 3",
   "language": "python",
   "name": "python3"
  },
  "language_info": {
   "codemirror_mode": {
    "name": "ipython",
    "version": 3
   },
   "file_extension": ".py",
   "mimetype": "text/x-python",
   "name": "python",
   "nbconvert_exporter": "python",
   "pygments_lexer": "ipython3",
   "version": "3.6.7"
  }
 },
 "nbformat": 4,
 "nbformat_minor": 2
}
